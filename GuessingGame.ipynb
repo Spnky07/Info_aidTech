{
 "cells": [
  {
   "cell_type": "code",
   "execution_count": 2,
   "id": "41fc0054-ac44-4bf0-a292-7215ec9d9752",
   "metadata": {},
   "outputs": [
    {
     "name": "stdout",
     "output_type": "stream",
     "text": [
      "Hello! , my dear\n",
      "I want you to play a game with me.\n",
      "The game is |Nummber Guessing Game|\n",
      "As the name goes , you have to guess the no I am thinking of, within 10 chances\n",
      "To start, I need a name!\n"
     ]
    },
    {
     "name": "stdin",
     "output_type": "stream",
     "text": [
      "Can I have a name ?  Vansh\n"
     ]
    },
    {
     "name": "stdout",
     "output_type": "stream",
     "text": [
      "Hello, Vansh!\n",
      "I'm thinking of a number between 1 and 100.\n",
      "You have 10 attempts to guess the number.\n"
     ]
    },
    {
     "name": "stdin",
     "output_type": "stream",
     "text": [
      "Take a guess:  47\n"
     ]
    },
    {
     "name": "stdout",
     "output_type": "stream",
     "text": [
      "Too high!\n"
     ]
    },
    {
     "name": "stdin",
     "output_type": "stream",
     "text": [
      "Take a guess:  32\n"
     ]
    },
    {
     "name": "stdout",
     "output_type": "stream",
     "text": [
      "Too high!\n"
     ]
    },
    {
     "name": "stdin",
     "output_type": "stream",
     "text": [
      "Take a guess:  27\n"
     ]
    },
    {
     "name": "stdout",
     "output_type": "stream",
     "text": [
      "Too high!\n"
     ]
    },
    {
     "name": "stdin",
     "output_type": "stream",
     "text": [
      "Take a guess:  18\n"
     ]
    },
    {
     "name": "stdout",
     "output_type": "stream",
     "text": [
      "Too high!\n"
     ]
    },
    {
     "name": "stdin",
     "output_type": "stream",
     "text": [
      "Take a guess:  11\n"
     ]
    },
    {
     "name": "stdout",
     "output_type": "stream",
     "text": [
      "Congratulations, Vansh! You guessed the number 11 correctly in 5 attempts!\n"
     ]
    },
    {
     "name": "stdin",
     "output_type": "stream",
     "text": [
      "Do you want to play again? (yes/no):  yes\n"
     ]
    },
    {
     "name": "stdout",
     "output_type": "stream",
     "text": [
      "I'm thinking of a number between 1 and 100.\n",
      "You have 10 attempts to guess the number.\n"
     ]
    },
    {
     "name": "stdin",
     "output_type": "stream",
     "text": [
      "Take a guess:  54\n"
     ]
    },
    {
     "name": "stdout",
     "output_type": "stream",
     "text": [
      "Too high!\n"
     ]
    },
    {
     "name": "stdin",
     "output_type": "stream",
     "text": [
      "Take a guess:  37\n"
     ]
    },
    {
     "name": "stdout",
     "output_type": "stream",
     "text": [
      "Too low!\n"
     ]
    },
    {
     "name": "stdin",
     "output_type": "stream",
     "text": [
      "Take a guess:  43\n"
     ]
    },
    {
     "name": "stdout",
     "output_type": "stream",
     "text": [
      "Too high!\n"
     ]
    },
    {
     "name": "stdin",
     "output_type": "stream",
     "text": [
      "Take a guess:  39\n"
     ]
    },
    {
     "name": "stdout",
     "output_type": "stream",
     "text": [
      "Too low!\n"
     ]
    },
    {
     "name": "stdin",
     "output_type": "stream",
     "text": [
      "Take a guess:  41\n"
     ]
    },
    {
     "name": "stdout",
     "output_type": "stream",
     "text": [
      "Too high!\n"
     ]
    },
    {
     "name": "stdin",
     "output_type": "stream",
     "text": [
      "Take a guess:  40\n"
     ]
    },
    {
     "name": "stdout",
     "output_type": "stream",
     "text": [
      "Congratulations, Vansh! You guessed the number 40 correctly in 6 attempts!\n"
     ]
    },
    {
     "name": "stdin",
     "output_type": "stream",
     "text": [
      "Do you want to play again? (yes/no):  no\n"
     ]
    },
    {
     "name": "stdout",
     "output_type": "stream",
     "text": [
      "Thank you for playing. Have a nice day!\n"
     ]
    }
   ],
   "source": [
    "import random\n",
    "\n",
    "def play_game():\n",
    "    print(\"Hello! , my dear\")\n",
    "    print(\"I want you to play a game with me.\")\n",
    "    print(\"The game is |Nummber Guessing Game|\")\n",
    "    print(\"As the name goes , you have to guess the no I am thinking of, within 10 chances\")\n",
    "    print(\"To start, I need a name!\")\n",
    "    name = input(\"Can I have a name ? \")\n",
    "    print(f\"Hello, {name}!\")\n",
    "    \n",
    "    while True:\n",
    "        secret_number = random.randint(1, 100)\n",
    "        print(\"I'm thinking of a number between 1 and 100.\")\n",
    "        print(\"You have 10 attempts to guess the number.\")\n",
    "        \n",
    "        num_attempts = 0\n",
    "        while num_attempts < 10:\n",
    "            try:\n",
    "                guess = int(input(\"Take a guess: \"))\n",
    "            except ValueError:\n",
    "                print(\"Invalid input. Please enter a valid integer.\")\n",
    "                continue\n",
    "            \n",
    "            num_attempts += 1\n",
    "            \n",
    "            if guess < secret_number:\n",
    "                print(\"Too low!\")\n",
    "            elif guess > secret_number:\n",
    "                print(\"Too high!\")\n",
    "            else:\n",
    "                print(f\"Congratulations, {name}! You guessed the number {secret_number} correctly in {num_attempts} attempts!\")\n",
    "                break\n",
    "        \n",
    "        if guess != secret_number:\n",
    "            print(f\"Game over! The number I was thinking of was {secret_number}.\")\n",
    "        \n",
    "        play_again = input(\"Do you want to play again? (yes/no): \")\n",
    "        if play_again.lower() != \"yes\":\n",
    "            print(\"Thank you for playing. Have a nice day!\")\n",
    "            break\n",
    "\n",
    "# Start the game\n",
    "play_game()"
   ]
  },
  {
   "cell_type": "code",
   "execution_count": null,
   "id": "6df5354f-47fc-4ff1-8a10-1f7e889f08c8",
   "metadata": {},
   "outputs": [],
   "source": []
  }
 ],
 "metadata": {
  "kernelspec": {
   "display_name": "Python 3 (ipykernel)",
   "language": "python",
   "name": "python3"
  },
  "language_info": {
   "codemirror_mode": {
    "name": "ipython",
    "version": 3
   },
   "file_extension": ".py",
   "mimetype": "text/x-python",
   "name": "python",
   "nbconvert_exporter": "python",
   "pygments_lexer": "ipython3",
   "version": "3.10.9"
  }
 },
 "nbformat": 4,
 "nbformat_minor": 5
}
