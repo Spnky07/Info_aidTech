{
 "cells": [
  {
   "cell_type": "code",
   "execution_count": 9,
   "id": "82c4b23a-8511-4ab8-833b-a6768d33272b",
   "metadata": {},
   "outputs": [
    {
     "name": "stdout",
     "output_type": "stream",
     "text": [
      "Welcome to the Dice Rolling app!\n"
     ]
    },
    {
     "name": "stdin",
     "output_type": "stream",
     "text": [
      "How many dice do you want to roll? [1-6]  2\n"
     ]
    },
    {
     "name": "stdout",
     "output_type": "stream",
     "text": [
      "\n",
      "~~~~~~~ RESULTS ~~~~~~~\n",
      "┌─────────┐ ┌─────────┐\n",
      "│  ●      │ │  ●      │\n",
      "│         │ │         │\n",
      "│      ●  │ │      ●  │\n",
      "└─────────┘ └─────────┘\n"
     ]
    },
    {
     "name": "stdin",
     "output_type": "stream",
     "text": [
      "Roll again? (y/n):  y\n",
      "How many dice do you want to roll? [1-6]  3\n"
     ]
    },
    {
     "name": "stdout",
     "output_type": "stream",
     "text": [
      "\n",
      "~~~~~~~~~~~~~ RESULTS ~~~~~~~~~~~~~\n",
      "┌─────────┐ ┌─────────┐ ┌─────────┐\n",
      "│         │ │  ●   ●  │ │  ●   ●  │\n",
      "│    ●    │ │         │ │    ●    │\n",
      "│         │ │  ●   ●  │ │  ●   ●  │\n",
      "└─────────┘ └─────────┘ └─────────┘\n"
     ]
    },
    {
     "name": "stdin",
     "output_type": "stream",
     "text": [
      "Roll again? (y/n):  y\n",
      "How many dice do you want to roll? [1-6]  4\n"
     ]
    },
    {
     "name": "stdout",
     "output_type": "stream",
     "text": [
      "\n",
      "~~~~~~~~~~~~~~~~~~~ RESULTS ~~~~~~~~~~~~~~~~~~~\n",
      "┌─────────┐ ┌─────────┐ ┌─────────┐ ┌─────────┐\n",
      "│  ●      │ │  ●      │ │         │ │  ●      │\n",
      "│         │ │         │ │    ●    │ │         │\n",
      "│      ●  │ │      ●  │ │         │ │      ●  │\n",
      "└─────────┘ └─────────┘ └─────────┘ └─────────┘\n"
     ]
    },
    {
     "name": "stdin",
     "output_type": "stream",
     "text": [
      "Roll again? (y/n):  n\n"
     ]
    },
    {
     "name": "stdout",
     "output_type": "stream",
     "text": [
      "Thanks for playing!\n"
     ]
    }
   ],
   "source": [
    "import random\n",
    "\n",
    "DICE_ART = {\n",
    "    1: (\n",
    "        \"┌─────────┐\",\n",
    "        \"│         │\",\n",
    "        \"│    ●    │\",\n",
    "        \"│         │\",\n",
    "        \"└─────────┘\",\n",
    "    ),\n",
    "    2: (\n",
    "        \"┌─────────┐\",\n",
    "        \"│  ●      │\",\n",
    "        \"│         │\",\n",
    "        \"│      ●  │\",\n",
    "        \"└─────────┘\",\n",
    "    ),\n",
    "    3: (\n",
    "        \"┌─────────┐\",\n",
    "        \"│  ●      │\",\n",
    "        \"│    ●    │\",\n",
    "        \"│      ●  │\",\n",
    "        \"└─────────┘\",\n",
    "    ),\n",
    "    4: (\n",
    "        \"┌─────────┐\",\n",
    "        \"│  ●   ●  │\",\n",
    "        \"│         │\",\n",
    "        \"│  ●   ●  │\",\n",
    "        \"└─────────┘\",\n",
    "    ),\n",
    "    5: (\n",
    "        \"┌─────────┐\",\n",
    "        \"│  ●   ●  │\",\n",
    "        \"│    ●    │\",\n",
    "        \"│  ●   ●  │\",\n",
    "        \"└─────────┘\",\n",
    "    ),\n",
    "    6: (\n",
    "        \"┌─────────┐\",\n",
    "        \"│  ●   ●  │\",\n",
    "        \"│  ●   ●  │\",\n",
    "        \"│  ●   ●  │\",\n",
    "        \"└─────────┘\",\n",
    "    ),\n",
    "}\n",
    "DIE_HEIGHT = len(DICE_ART[1])\n",
    "DIE_WIDTH = len(DICE_ART[1][0])\n",
    "DIE_FACE_SEPARATOR = \" \"\n",
    "\n",
    "\n",
    "def parse_input(input_string):\n",
    "    \n",
    "    if input_string.strip() in {\"1\", \"2\", \"3\", \"4\", \"5\", \"6\"}:\n",
    "        return int(input_string)\n",
    "    else:\n",
    "        print(\"Please enter a number from 1 to 6.\")\n",
    "        raise SystemExit(1)\n",
    "\n",
    "\n",
    "def roll_dice(num_dice):\n",
    "   \n",
    "    roll_results = []\n",
    "    for _ in range(num_dice):\n",
    "        roll = random.randint(1, 6)\n",
    "        roll_results.append(roll)\n",
    "    return roll_results\n",
    "\n",
    "\n",
    "def generate_dice_faces_diagram(dice_values):\n",
    "   \n",
    "    dice_faces = _get_dice_faces(dice_values)\n",
    "    dice_faces_rows = _generate_dice_faces_rows(dice_faces)\n",
    "\n",
    "    # Generate header with the word \"RESULTS\" centered\n",
    "    width = len(dice_faces_rows[0])\n",
    "    diagram_header = \" RESULTS \".center(width, \"~\")\n",
    "\n",
    "    dice_faces_diagram = \"\\n\".join([diagram_header] + dice_faces_rows)\n",
    "    return dice_faces_diagram\n",
    "\n",
    "\n",
    "def _get_dice_faces(dice_values):\n",
    "    dice_faces = []\n",
    "    for value in dice_values:\n",
    "        dice_faces.append(DICE_ART[value])\n",
    "    return dice_faces\n",
    "\n",
    "\n",
    "def _generate_dice_faces_rows(dice_faces):\n",
    "    dice_faces_rows = []\n",
    "    for row_idx in range(DIE_HEIGHT):\n",
    "        row_components = []\n",
    "        for die in dice_faces:\n",
    "            row_components.append(die[row_idx])\n",
    "        row_string = DIE_FACE_SEPARATOR.join(row_components)\n",
    "        dice_faces_rows.append(row_string)\n",
    "    return dice_faces_rows\n",
    "print(\"Welcome to the Dice Rolling app!\")\n",
    "\n",
    "while True:\n",
    "    num_dice_input = input(\"How many dice do you want to roll? [1-6] \")\n",
    "    num_dice = parse_input(num_dice_input)\n",
    "    # 2. Roll the dice\n",
    "    roll_results = roll_dice(num_dice)\n",
    "    # 3. Generate the ASCII diagram of dice faces\n",
    "    dice_face_diagram = generate_dice_faces_diagram(roll_results)\n",
    "    # 4. Display the diagram\n",
    "    print(f\"\\n{dice_face_diagram}\")\n",
    "    play_again = input(\"Roll again? (y/n): \")\n",
    "    if play_again.lower() != \"y\":\n",
    "        print(\"Thanks for playing!\")\n",
    "        break\n",
    "    \n",
    "\n"
   ]
  },
  {
   "cell_type": "code",
   "execution_count": null,
   "id": "7f577308-d6ee-470a-bcfd-2f8f09d8f16c",
   "metadata": {},
   "outputs": [],
   "source": []
  }
 ],
 "metadata": {
  "kernelspec": {
   "display_name": "Python 3 (ipykernel)",
   "language": "python",
   "name": "python3"
  },
  "language_info": {
   "codemirror_mode": {
    "name": "ipython",
    "version": 3
   },
   "file_extension": ".py",
   "mimetype": "text/x-python",
   "name": "python",
   "nbconvert_exporter": "python",
   "pygments_lexer": "ipython3",
   "version": "3.10.9"
  }
 },
 "nbformat": 4,
 "nbformat_minor": 5
}
